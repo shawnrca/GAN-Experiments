{
 "cells": [
  {
   "cell_type": "code",
   "execution_count": null,
   "metadata": {},
   "outputs": [],
   "source": [
    "import tensorflow as tf\n",
    "from GAN import GAN\n",
    "import numpy as np\n",
    "import os, copy\n",
    "import matplotlib.pyplot as plt\n",
    "from Vgg19 import Vgg19\n",
    "from imagenet_classes import class_names\n",
    "import pandas as pd\n",
    "%matplotlib inline"
   ]
  },
  {
   "cell_type": "code",
   "execution_count": null,
   "metadata": {},
   "outputs": [],
   "source": [
    "all_birds = pd.read_csv('NACC_list_species.csv', index_col=0)[[\"common_name\", \"species\"]]\n",
    "all_birds.common_name, all_birds.species = all_birds.common_name.str.lower(), all_birds.species.str.lower()\n",
    "\n",
    "class_names_mod=[]\n",
    "\n",
    "for c in class_names:\n",
    "    for sp in c.split(\",\"):\n",
    "        if sp in list(all_birds.common_name) or sp in list(all_birds.species):\n",
    "            class_names_mod.append(1)\n",
    "        else:\n",
    "            class_names_mod.append(0)\n",
    "        break;\n",
    "    "
   ]
  },
  {
   "cell_type": "code",
   "execution_count": null,
   "metadata": {},
   "outputs": [],
   "source": [
    "z_dim = 1024\n",
    "tf.reset_default_graph()\n",
    "gan = GAN(verbose=False)\n",
    "layers = list()\n",
    "\n",
    "\n",
    "G_layers = [[1024, [4, 4], (1, 1), \"valid\", tf.random_normal_initializer(stddev=0.02), 1, \"r\", None, 0],\n",
    "            [512, [4, 4], (2, 2), \"same\", tf.random_normal_initializer(stddev=0.02), 1, \"r\", None, 0],\n",
    "            [256, [4, 4], (2, 2), \"same\", tf.random_normal_initializer(stddev=0.02), 1, \"r\", None, 0],\n",
    "            [128, [4, 4], (2, 2), \"same\", tf.random_normal_initializer(stddev=0.02), 1, \"r\", None, 0],\n",
    "            [64, [4, 4], (2, 2), \"same\", tf.random_normal_initializer(stddev=0.02), 1, \"r\", None, 0],\n",
    "            [32, [4, 4], (2, 2), \"same\", tf.random_normal_initializer(stddev=0.02), 1, \"r\", None, 0],\n",
    "            [3, [4, 4], (2, 2), \"same\", tf.random_normal_initializer(stddev=0.02), 0, \"th\", None, 0]]\n",
    "\n",
    "graph, sess_gan, z, G_col, G_out = gan.build_inference_graph(G_layers, tf.placeholder(tf.float32, [None, 1, 1, z_dim]), \n",
    "                                                             \"lsun_generator_vars.npz\")\n",
    "                                                         #\"Model\\\\GAN_RMS_256_with_noise_mini_sm_an_z-199999\")\n",
    "    \n",
    "z_val = np.random.normal(0, 1.0, size=[100, 1, 1, 1024])\n",
    "img = sess_gan.run(tf.clip_by_value(G_out, -1, 1), feed_dict={z:z_val})/2 + 0.5  \n",
    "\n",
    "graph_vgg = tf.Graph()\n",
    "with graph_vgg.as_default():\n",
    "    vgg19_m = Vgg19()\n",
    "    vgg_img = tf.placeholder(shape=[100, 224, 224, 3], dtype=tf.float32)\n",
    "    vgg19_m.build(vgg_img)\n",
    "\n",
    "with tf.Session(graph=graph_vgg) as sess:\n",
    "    img_resized = sess.run(tf.image.resize_images(img, (224, 224)))\n",
    "    feed_dict = {vgg_img:img_resized}\n",
    "    probs, cat = sess.run([vgg19_m.prob, tf.argmax(vgg19_m.prob, axis=1)], feed_dict=feed_dict)\n",
    "    \n",
    "\n",
    "cat_detected = z_val[[i for i, d in enumerate(cat) if class_names_mod[d]==1], ...]\n",
    "img_birds = sess_gan.run(tf.clip_by_value(G_out, -1, 1), feed_dict={z:cat_detected})/2 + 0.5  \n",
    "sess_gan.close()\n",
    "nrows, ncols = img_birds.shape[0]//4+img_birds.shape[0]%4,  4\n",
    "f, ax =plt.subplots(nrows=nrows, ncols=ncols)\n",
    "f.set_size_inches(20, 20)\n",
    "#z_codes=list()\n",
    "for i, (r, c) in enumerate([(r, c) for r in np.arange(nrows) for c in np.arange(ncols)]):\n",
    "    if i>img_birds.shape[0]-1:\n",
    "        break;\n",
    "    ax[r][c].set_title(i)\n",
    "    #ax[r][c].imshow(sess.run(tf.clip_by_value(G_out, -1, 1), feed_dict={z:cat}).squeeze()/2 + 0.5)\n",
    "    ax[r][c].imshow(img_birds[i,...])\n",
    "\n",
    "plt.show()"
   ]
  },
  {
   "cell_type": "code",
   "execution_count": null,
   "metadata": {},
   "outputs": [],
   "source": [
    "good_ones = np.load(\"good_ones.npy\")\n",
    "good_ones = np.concatenate([good_ones, cat_detected[[4, 5, 6, 9], ...]], axis=0)\n",
    "np.save(\"good_ones.npy\", good_ones)"
   ]
  },
  {
   "cell_type": "code",
   "execution_count": null,
   "metadata": {},
   "outputs": [],
   "source": []
  }
 ],
 "metadata": {
  "kernelspec": {
   "display_name": "Python 3",
   "language": "python",
   "name": "python3"
  },
  "language_info": {
   "codemirror_mode": {
    "name": "ipython",
    "version": 3
   },
   "file_extension": ".py",
   "mimetype": "text/x-python",
   "name": "python",
   "nbconvert_exporter": "python",
   "pygments_lexer": "ipython3",
   "version": "3.6.4"
  }
 },
 "nbformat": 4,
 "nbformat_minor": 2
}
