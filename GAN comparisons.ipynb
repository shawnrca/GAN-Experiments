{
 "cells": [
  {
   "cell_type": "code",
   "execution_count": 1,
   "metadata": {},
   "outputs": [],
   "source": [
    "import tensorflow as tf\n",
    "from GAN import GAN\n",
    "import numpy as np\n",
    "import os\n",
    "import matplotlib.pyplot as plt\n",
    "import mnist\n",
    "from skimage.transform import resize, rotate, warp, SimilarityTransform\n",
    "%matplotlib inline"
   ]
  },
  {
   "cell_type": "code",
   "execution_count": 2,
   "metadata": {},
   "outputs": [
    {
     "name": "stdout",
     "output_type": "stream",
     "text": [
      "Images magic no: 2051,  No of images: 60000, Image rows: 28, Image cols: 28\n",
      "Labels magic no: 2049, No of items: 60000\n"
     ]
    }
   ],
   "source": [
    "mn = mnist.Mnist(path=r\"C:\\Users\\srajabza\\Documents\\mnist\")\n",
    "imgs, lbls, _ = mn.get_batch(60000)\n",
    "imgs = imgs[list(np.where((lbls==0)|(lbls==1)|(lbls==2)))[0],...]\n",
    "imgs = (imgs - 0.5)*2\n",
    "assert(np.all((imgs>=-1)&(imgs<=1)) and np.any(imgs>0) and np.any(imgs<0))"
   ]
  },
  {
   "cell_type": "code",
   "execution_count": 3,
   "metadata": {},
   "outputs": [],
   "source": [
    "def transform_image(img, code):\n",
    "    if code == 0:\n",
    "        return(img)\n",
    "    \n",
    "    if code == 1:\n",
    "        return(rotate(img, np.random.randint(low=-10, high=10)))\n",
    "    \n",
    "    if code == 2:\n",
    "        return(img + np.random.normal(size=img.shape, loc=0, scale=0.1))\n",
    "    \n",
    "    \n",
    "    if code == 3:\n",
    "        sft = np.random.randint(-4, 4)\n",
    "        tr = SimilarityTransform(scale=1, rotation=0, translation=[sft,sft])\n",
    "        img = warp(img, tr)\n",
    "        if sft>0:\n",
    "            img[:,-sft::] = -1\n",
    "            img[-sft::,:] = -1\n",
    "        else:\n",
    "            img[:,0:-sft] = -1\n",
    "            img[0:-sft,:] = -1\n",
    "        return(img)\n",
    "        "
   ]
  },
  {
   "cell_type": "code",
   "execution_count": 10,
   "metadata": {},
   "outputs": [],
   "source": [
    "def get_batch(batch_size):\n",
    "    global imgs\n",
    "    rnd_idxs = np.random.choice(np.arange(imgs.shape[0]), batch_size)\n",
    "    for idx in rnd_idxs:\n",
    "        code = np.random.choice(np.arange(4), 1)[0]\n",
    "        imgs[idx] = transform_image(imgs[idx], code=code)\n",
    "    return (imgs[rnd_idxs])    \n",
    "    \n",
    "        "
   ]
  },
  {
   "cell_type": "code",
   "execution_count": 8,
   "metadata": {},
   "outputs": [
    {
     "name": "stdout",
     "output_type": "stream",
     "text": [
      "=====generator=====\n",
      "------------------------------------------------------------------------------------------------------------------------------------------------------------------------------------------------------------------------------------\n",
      "-layer:0, no_of_filters:1024, k_size:[4, 4], strides:(1, 1), padding:valid, initializer:<tensorflow.python.ops.init_ops.RandomNormal object at 0x0000020F5B0B6780>, has_bn:1, act:r output shape:[None, 4, 4, 1024] mb:None noise:0-\n",
      "---------------------------------------------------------------------------------------------------------------------------------------------------------------------------------------------------------------------------------\n",
      "-layer:1, no_of_filters:512, k_size:[4, 4], strides:(2, 2), padding:same, initializer:<tensorflow.python.ops.init_ops.RandomNormal object at 0x0000020F5AF82240>, has_bn:1, act:r output shape:[None, 8, 8, 512] mb:None noise:0-\n",
      "-----------------------------------------------------------------------------------------------------------------------------------------------------------------------------------------------------------------------------------\n",
      "-layer:2, no_of_filters:256, k_size:[4, 4], strides:(2, 2), padding:same, initializer:<tensorflow.python.ops.init_ops.RandomNormal object at 0x0000020F5AF82400>, has_bn:1, act:r output shape:[None, 16, 16, 256] mb:None noise:0-\n",
      "--------------------------------------------------------------------------------------------------------------------------------------------------------------------------------------------------------------------------------\n",
      "-layer:3, no_of_filters:1, k_size:[4, 4], strides:(2, 2), padding:same, initializer:<tensorflow.python.ops.init_ops.RandomNormal object at 0x0000020F5AF822E8>, has_bn:0, act:th output shape:[None, 32, 32, 1] mb:None noise:0-\n",
      "=====discriminator=====\n",
      "----------------------------------------------------------------------------------------------------------------------------------------------------------------------------------------------------------------------------------------------------------------------------------------\n",
      "-layer:0, no_of_filters:256, k_size:[4, 4], strides:(2, 2), padding:same, initializer:<tensorflow.python.ops.init_ops.RandomNormal object at 0x0000020F5B0B6748>, has_bn:0, act:lr output shape:[None, 16, 16, 256] mb:None noise:Tensor(\"ExponentialDecay:0\", shape=(), dtype=float32)-\n",
      "----------------------------------------------------------------------------------------------------------------------------------------------------------------------------------------------------------------------------------\n",
      "-layer:1, no_of_filters:512, k_size:[4, 4], strides:(2, 2), padding:same, initializer:<tensorflow.python.ops.init_ops.RandomNormal object at 0x0000020F5AF82588>, has_bn:1, act:lr output shape:[None, 8, 8, 512] mb:None noise:0-\n",
      "--------------------------------------------------------------------------------------------------------------------------------------------------------------------------------------------------------------------------------------\n",
      "-layer:2, no_of_filters:1024, k_size:[4, 4], strides:(2, 2), padding:same, initializer:<tensorflow.python.ops.init_ops.RandomNormal object at 0x0000020F5AF824A8>, has_bn:1, act:lr output shape:[None, 4, 4, 1028] mb:[4, 5] noise:0-\n",
      "------------------------------------------------------------------------------------------------------------------------------------------------------------------------------------------------------------------------------\n",
      "-layer:3, no_of_filters:1, k_size:[4, 4], strides:(1, 1), padding:valid, initializer:<tensorflow.python.ops.init_ops.RandomNormal object at 0x0000020F5AF825C0>, has_bn:0, act:l output shape:[None, 1, 1, 1] mb:None noise:0-\n",
      "=====discriminator=====\n",
      "----------------------------------------------------------------------------------------------------------------------------------------------------------------------------------------------------------------------------------------------------------------------------------------\n",
      "-layer:0, no_of_filters:256, k_size:[4, 4], strides:(2, 2), padding:same, initializer:<tensorflow.python.ops.init_ops.RandomNormal object at 0x0000020F5B0B6748>, has_bn:0, act:lr output shape:[None, 16, 16, 256] mb:None noise:Tensor(\"ExponentialDecay:0\", shape=(), dtype=float32)-\n",
      "----------------------------------------------------------------------------------------------------------------------------------------------------------------------------------------------------------------------------------\n",
      "-layer:1, no_of_filters:512, k_size:[4, 4], strides:(2, 2), padding:same, initializer:<tensorflow.python.ops.init_ops.RandomNormal object at 0x0000020F5AF82588>, has_bn:1, act:lr output shape:[None, 8, 8, 512] mb:None noise:0-\n",
      "--------------------------------------------------------------------------------------------------------------------------------------------------------------------------------------------------------------------------------------\n",
      "-layer:2, no_of_filters:1024, k_size:[4, 4], strides:(2, 2), padding:same, initializer:<tensorflow.python.ops.init_ops.RandomNormal object at 0x0000020F5AF824A8>, has_bn:1, act:lr output shape:[None, 4, 4, 1028] mb:[4, 5] noise:0-\n",
      "------------------------------------------------------------------------------------------------------------------------------------------------------------------------------------------------------------------------------\n",
      "-layer:3, no_of_filters:1, k_size:[4, 4], strides:(1, 1), padding:valid, initializer:<tensorflow.python.ops.init_ops.RandomNormal object at 0x0000020F5AF825C0>, has_bn:0, act:l output shape:[None, 1, 1, 1] mb:None noise:0-\n"
     ]
    }
   ],
   "source": [
    "z_dim = 100\n",
    "\n",
    "tf.reset_default_graph()\n",
    "gan = GAN(verbose=True)\n",
    "layers = list()\n",
    "\n",
    "ns = tf.train.exponential_decay(0.1, tf.Variable(0, trainable=False), 1000, 0.95, staircase=True)\n",
    "\n",
    "G_layers = [[1024, [4, 4], (1, 1), \"valid\", tf.random_normal_initializer(stddev=0.02), 1, \"r\", None, 0],\n",
    "            [512, [4, 4], (2, 2), \"same\", tf.random_normal_initializer(stddev=0.02), 1, \"r\", None, 0],\n",
    "            [256, [4, 4], (2, 2), \"same\", tf.random_normal_initializer(stddev=0.02), 1, \"r\", None, 0],\n",
    "            [1, [4, 4], (2, 2), \"same\", tf.random_normal_initializer(stddev=0.02), 0, \"th\", None, 0]]\n",
    "\n",
    "D_layers = [[256, [4, 4], (2, 2), 'same', tf.random_normal_initializer(stddev=0.02), 0, 'lr', None, ns],\n",
    "            [512, [4, 4], (2, 2), 'same', tf.random_normal_initializer(stddev=0.02), 1, 'lr', None, 0],\n",
    "            [1024, [4, 4], (2, 2), 'same', tf.random_normal_initializer(stddev=0.02), 1, 'lr', [4, 5], 0],\n",
    "            [1, [4, 4], (1, 1), 'valid', tf.random_normal_initializer(stddev=0.02), 0, 'l', None, 0]]\n",
    "\n",
    "x = tf.placeholder(tf.float32, [None, 28, 28])\n",
    "xr = tf.image.resize_images(tf.expand_dims(x, axis=3), (32, 32))\n",
    "\n",
    "gargs = gan.build_graph(G_layers, D_layers, xr,\n",
    "                       tf.placeholder(tf.float32, [None, 1, 1, z_dim]), True, 0.9, [\"RMS\", 0.5, 0.99], 2e-4, True)\n",
    "gargs = [g for g in gargs]\n",
    "gargs[1] = x\n",
    "gargs = tuple(gargs)"
   ]
  },
  {
   "cell_type": "code",
   "execution_count": null,
   "metadata": {
    "scrolled": true
   },
   "outputs": [
    {
     "name": "stdout",
     "output_type": "stream",
     "text": [
      "Training Started!\n",
      " epoch 10 cnt 10 Loss discriminator 0.5882760286331177   Loss generator 3.3088605403900146 "
     ]
    }
   ],
   "source": [
    "gan.train(60,  2000, 10, get_batch, \"n\", z_dim, True, \"summary\\\\GAN_mnist\", \"Model\\\\GAN_mnist\", None, None, gargs)\n"
   ]
  },
  {
   "cell_type": "code",
   "execution_count": null,
   "metadata": {},
   "outputs": [],
   "source": []
  }
 ],
 "metadata": {
  "kernelspec": {
   "display_name": "Python 3",
   "language": "python",
   "name": "python3"
  },
  "language_info": {
   "codemirror_mode": {
    "name": "ipython",
    "version": 3
   },
   "file_extension": ".py",
   "mimetype": "text/x-python",
   "name": "python",
   "nbconvert_exporter": "python",
   "pygments_lexer": "ipython3",
   "version": "3.6.4"
  }
 },
 "nbformat": 4,
 "nbformat_minor": 2
}
