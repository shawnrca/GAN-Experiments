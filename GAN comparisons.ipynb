{
 "cells": [
  {
   "cell_type": "code",
   "execution_count": 18,
   "metadata": {},
   "outputs": [],
   "source": [
    "import tensorflow as tf\n",
    "from GAN import GAN\n",
    "#from WGAN import WGAN, GP_WGAN\n",
    "import numpy as np\n",
    "import os, gc\n",
    "import matplotlib.pyplot as plt\n",
    "import mnist\n",
    "from skimage.transform import resize, rotate, warp, SimilarityTransform\n",
    "%matplotlib inline"
   ]
  },
  {
   "cell_type": "markdown",
   "metadata": {},
   "source": [
    "# Experiments with WGAN and mnist results\n",
    "I tried different options with watered down but result images weren't good</br>\n",
    "<ol>\n",
    "    <li> WGAN GP takes a long time to train\n",
    "    <li> WGAN does not create good images at short period of times\n",
    "   \n",
    "</ol>\n",
    "## Forget about WGAN\n",
    "\n"
   ]
  },
  {
   "cell_type": "code",
   "execution_count": 3,
   "metadata": {},
   "outputs": [],
   "source": [
    "def transform_image(img, code):\n",
    "    if code == 0:\n",
    "        return(img)\n",
    "    \n",
    "    if code == 1:\n",
    "        ang = np.random.randint(low=-10, high=10)\n",
    "        p = np.int(np.ceil(np.sin(np.deg2rad(np.abs(ang)))*img.shape[0]))\n",
    "        img = rotate(img, ang)\n",
    "        img[:, 0:p] = -1\n",
    "        img[:,-p::] = -1\n",
    "        img[0:p, :] = -1\n",
    "        img[-p::, :] = -1\n",
    "        \n",
    "        return(img)\n",
    "    \n",
    "    \n",
    "    if code == 2:\n",
    "        sft = np.random.randint(-4, 4)\n",
    "        tr = SimilarityTransform(scale=1, rotation=0, translation=[sft,sft])\n",
    "        img = warp(img, tr)\n",
    "        if sft>0:\n",
    "            img[:,-sft::] = -1\n",
    "            img[-sft::,:] = -1\n",
    "        else:\n",
    "            img[:,0:-sft] = -1\n",
    "            img[0:-sft,:] = -1\n",
    "        return(img)\n",
    "        "
   ]
  },
  {
   "cell_type": "code",
   "execution_count": 4,
   "metadata": {},
   "outputs": [
    {
     "name": "stdout",
     "output_type": "stream",
     "text": [
      "Images magic no: 2051,  No of images: 60000, Image rows: 28, Image cols: 28\n",
      "Labels magic no: 2049, No of items: 60000\n"
     ]
    }
   ],
   "source": [
    "mn = mnist.Mnist(path=\".\")\n",
    "imgs, lbls, _ = mn.get_batch(60000)\n",
    "imgs = (imgs - 0.5)*2\n",
    "\n",
    "\n",
    "def get_batch(batch_size):\n",
    "    global imgs\n",
    "    rnd_idxs = np.random.choice(np.arange(imgs.shape[0]), batch_size)\n",
    "    for idx in rnd_idxs:\n",
    "        code = np.random.choice(np.arange(3), 1)[0]\n",
    "        imgs[idx] = transform_image(imgs[idx], code=code)\n",
    "    return (imgs[rnd_idxs])    \n",
    "    \n",
    "        "
   ]
  },
  {
   "cell_type": "markdown",
   "metadata": {},
   "source": [
    "# DCGAN different settig mnist"
   ]
  },
  {
   "cell_type": "code",
   "execution_count": 34,
   "metadata": {},
   "outputs": [
    {
     "data": {
      "text/plain": [
       "array([1., 1., 1., 1., 1., 1., 0.])"
      ]
     },
     "execution_count": 34,
     "metadata": {},
     "output_type": "execute_result"
    }
   ],
   "source": [
    "import networkx as nx\n",
    "g = nx.DiGraph()\n",
    "nodes ={\"sm\":\"sm\", \"ns_g\":\"ns_g\", \"ns_d_1\":\"ns_d_1\", \"ns_d_12\":\"ns_d_12\", \n",
    "        \"ns_d_123\":\"ns_d_123\", \"mbd_45\":\"mbd_45\", \"mbd_23\":\"mbd_23\"}\n",
    "g.add_edge(nodes[\"sm\"], nodes[\"ns_g\"], weight=0.4)\n",
    "g.add_edge(nodes[\"sm\"], nodes[\"ns_d_1\"], weight=0.6)\n",
    "g.add_edge(nodes[\"ns_g\"], nodes[\"ns_d_1\"], weight=1.)\n",
    "g.add_edge(nodes[\"ns_d_1\"], nodes[\"ns_d_12\"], weight=0.4)\n",
    "g.add_edge(nodes[\"ns_d_12\"], nodes[\"ns_d_123\"], weight=0.4)\n",
    "g.add_edge(nodes[\"ns_d_1\"], nodes[\"mbd_45\"], weight=0.6)\n",
    "g.add_edge(nodes[\"ns_d_12\"], nodes[\"mbd_45\"], weight=0.6)\n",
    "g.add_edge(nodes[\"ns_d_123\"], nodes[\"mbd_45\"], weight=1.0)\n",
    "g.add_edge(nodes[\"mbd_45\"], nodes[\"mbd_23\"], weight=1.0)\n",
    "a_mat = nx.adjacency_matrix(g).toarray()\n",
    "\n",
    "idxs = np.arange(7)\n",
    "combinations = np.zeros([20, 7])\n",
    "sel_n = list()\n",
    "for i in range(combinations.shape[0]):\n",
    "    combinations[i, 0] = 1\n",
    "    row = 0\n",
    "    for _ in range(7):\n",
    "        if a_mat[row,:].sum()>0:\n",
    "            row = np.random.choice(idxs, p=a_mat[row,:])\n",
    "            combinations[i, row] = 1\n",
    "        \n",
    "#good\n",
    "combinations\n"
   ]
  },
  {
   "cell_type": "code",
   "execution_count": 6,
   "metadata": {},
   "outputs": [
    {
     "name": "stdout",
     "output_type": "stream",
     "text": [
      "=====generator=====\n",
      "------------------------------------------------------------------------------------------------------------------------------------------------------------------------------------------------------------------------------------\n",
      "-layer:0, no_of_filters:1024, k_size:[4, 4], strides:(1, 1), padding:valid, initializer:<tensorflow.python.ops.init_ops.RandomNormal object at 0x0000018093AD3198>, has_bn:1, act:r output shape:[None, 4, 4, 1024] mb:None noise:0-\n",
      "---------------------------------------------------------------------------------------------------------------------------------------------------------------------------------------------------------------------------------\n",
      "-layer:1, no_of_filters:512, k_size:[4, 4], strides:(2, 2), padding:same, initializer:<tensorflow.python.ops.init_ops.RandomNormal object at 0x0000018093AD3358>, has_bn:1, act:r output shape:[None, 8, 8, 512] mb:None noise:0-\n",
      "-----------------------------------------------------------------------------------------------------------------------------------------------------------------------------------------------------------------------------------\n",
      "-layer:2, no_of_filters:256, k_size:[4, 4], strides:(2, 2), padding:same, initializer:<tensorflow.python.ops.init_ops.RandomNormal object at 0x0000018093AD32B0>, has_bn:1, act:r output shape:[None, 16, 16, 256] mb:None noise:0-\n",
      "-----------------------------------------------------------------------------------------------------------------------------------------------------------------------------------------------------------------------------------\n",
      "-layer:3, no_of_filters:128, k_size:[4, 4], strides:(2, 2), padding:same, initializer:<tensorflow.python.ops.init_ops.RandomNormal object at 0x0000018093AD32E8>, has_bn:1, act:r output shape:[None, 32, 32, 128] mb:None noise:0-\n",
      "--------------------------------------------------------------------------------------------------------------------------------------------------------------------------------------------------------------------------------\n",
      "-layer:4, no_of_filters:1, k_size:[4, 4], strides:(2, 2), padding:same, initializer:<tensorflow.python.ops.init_ops.RandomNormal object at 0x0000018093AD3710>, has_bn:0, act:th output shape:[None, 64, 64, 1] mb:None noise:0-\n",
      "=====discriminator=====\n",
      "----------------------------------------------------------------------------------------------------------------------------------------------------------------------------------------------------------------------------------------------------------------------------------------\n",
      "-layer:0, no_of_filters:128, k_size:[4, 4], strides:(2, 2), padding:same, initializer:<tensorflow.python.ops.init_ops.RandomNormal object at 0x00000180939B5E48>, has_bn:0, act:lr output shape:[None, 32, 32, 128] mb:None noise:Tensor(\"ExponentialDecay:0\", shape=(), dtype=float32)-\n",
      "----------------------------------------------------------------------------------------------------------------------------------------------------------------------------------------------------------------------------------------------------------------------------------------\n",
      "-layer:1, no_of_filters:256, k_size:[4, 4], strides:(2, 2), padding:same, initializer:<tensorflow.python.ops.init_ops.RandomNormal object at 0x00000180939B5358>, has_bn:1, act:lr output shape:[None, 16, 16, 256] mb:None noise:Tensor(\"ExponentialDecay:0\", shape=(), dtype=float32)-\n",
      "----------------------------------------------------------------------------------------------------------------------------------------------------------------------------------------------------------------------------------\n",
      "-layer:2, no_of_filters:512, k_size:[4, 4], strides:(2, 2), padding:same, initializer:<tensorflow.python.ops.init_ops.RandomNormal object at 0x00000180939B52B0>, has_bn:1, act:lr output shape:[None, 8, 8, 512] mb:None noise:0-\n",
      "--------------------------------------------------------------------------------------------------------------------------------------------------------------------------------------------------------------------------------------\n",
      "-layer:3, no_of_filters:1024, k_size:[4, 4], strides:(2, 2), padding:same, initializer:<tensorflow.python.ops.init_ops.RandomNormal object at 0x00000180939B5320>, has_bn:1, act:lr output shape:[None, 4, 4, 1028] mb:[4, 5] noise:0-\n",
      "------------------------------------------------------------------------------------------------------------------------------------------------------------------------------------------------------------------------------\n",
      "-layer:4, no_of_filters:1, k_size:[4, 4], strides:(1, 1), padding:valid, initializer:<tensorflow.python.ops.init_ops.RandomNormal object at 0x00000180939B5710>, has_bn:0, act:l output shape:[None, 1, 1, 1] mb:None noise:0-\n",
      "=====discriminator=====\n",
      "----------------------------------------------------------------------------------------------------------------------------------------------------------------------------------------------------------------------------------------------------------------------------------------\n",
      "-layer:0, no_of_filters:128, k_size:[4, 4], strides:(2, 2), padding:same, initializer:<tensorflow.python.ops.init_ops.RandomNormal object at 0x00000180939B5E48>, has_bn:0, act:lr output shape:[None, 32, 32, 128] mb:None noise:Tensor(\"ExponentialDecay:0\", shape=(), dtype=float32)-\n",
      "----------------------------------------------------------------------------------------------------------------------------------------------------------------------------------------------------------------------------------------------------------------------------------------\n",
      "-layer:1, no_of_filters:256, k_size:[4, 4], strides:(2, 2), padding:same, initializer:<tensorflow.python.ops.init_ops.RandomNormal object at 0x00000180939B5358>, has_bn:1, act:lr output shape:[None, 16, 16, 256] mb:None noise:Tensor(\"ExponentialDecay:0\", shape=(), dtype=float32)-\n",
      "----------------------------------------------------------------------------------------------------------------------------------------------------------------------------------------------------------------------------------\n",
      "-layer:2, no_of_filters:512, k_size:[4, 4], strides:(2, 2), padding:same, initializer:<tensorflow.python.ops.init_ops.RandomNormal object at 0x00000180939B52B0>, has_bn:1, act:lr output shape:[None, 8, 8, 512] mb:None noise:0-\n",
      "--------------------------------------------------------------------------------------------------------------------------------------------------------------------------------------------------------------------------------------\n",
      "-layer:3, no_of_filters:1024, k_size:[4, 4], strides:(2, 2), padding:same, initializer:<tensorflow.python.ops.init_ops.RandomNormal object at 0x00000180939B5320>, has_bn:1, act:lr output shape:[None, 4, 4, 1028] mb:[4, 5] noise:0-\n",
      "------------------------------------------------------------------------------------------------------------------------------------------------------------------------------------------------------------------------------\n",
      "-layer:4, no_of_filters:1, k_size:[4, 4], strides:(1, 1), padding:valid, initializer:<tensorflow.python.ops.init_ops.RandomNormal object at 0x00000180939B5710>, has_bn:0, act:l output shape:[None, 1, 1, 1] mb:None noise:0-\n"
     ]
    }
   ],
   "source": [
    "z_dim = 100\n",
    "\n",
    "tf.reset_default_graph()\n",
    "gan = GAN(verbose=True)\n",
    "layers = list()\n",
    "\n",
    "ns = tf.train.exponential_decay(0.1, tf.Variable(0, trainable=False), 1000, 0.95, staircase=True)\n",
    "\n",
    "G_layers = [[1024, [4, 4], (1, 1), \"valid\", tf.random_normal_initializer(stddev=0.02), 1, \"r\", None, 0],\n",
    "            [512, [4, 4], (2, 2), \"same\", tf.random_normal_initializer(stddev=0.02), 1, \"r\", None, 0],\n",
    "            [256, [4, 4], (2, 2), \"same\", tf.random_normal_initializer(stddev=0.02), 1, \"r\", None, 0],\n",
    "            [128, [4, 4], (2, 2), \"same\", tf.random_normal_initializer(stddev=0.02), 1, \"r\", None, 0],\n",
    "            [1, [4, 4], (2, 2), \"same\", tf.random_normal_initializer(stddev=0.02), 0, \"th\", None, 0]]\n",
    "\n",
    "D_layers = [[128, [4, 4], (2, 2), 'same', tf.random_normal_initializer(stddev=0.02), 0, 'lr', None, ns],\n",
    "            [256, [4, 4], (2, 2), 'same', tf.random_normal_initializer(stddev=0.02), 1, 'lr', None, ns],\n",
    "            [512, [4, 4], (2, 2), 'same', tf.random_normal_initializer(stddev=0.02), 1, 'lr', None, 0],\n",
    "            [1024, [4, 4], (2, 2), 'same', tf.random_normal_initializer(stddev=0.02), 1, 'lr', [4, 5], 0],\n",
    "            [1, [4, 4], (1, 1), 'valid', tf.random_normal_initializer(stddev=0.02), 0, 'l', None, 0]]\n",
    "\n",
    "x = tf.placeholder(tf.float32, [None, 28, 28])\n",
    "xr = tf.image.resize_images(tf.expand_dims(x, axis=3), (64, 64))\n",
    "\n",
    "gargs = gan.build_graph(G_layers, D_layers, xr,\n",
    "                       tf.placeholder(tf.float32, [None, 1, 1, z_dim]), True, 0.9, [\"RMS\"], 2e-4, True)"
   ]
  },
  {
   "cell_type": "code",
   "execution_count": null,
   "metadata": {},
   "outputs": [],
   "source": [
    "gargs = [g for g in gargs]\n",
    "gargs[1] = x\n",
    "gargs = tuple(gargs)\n",
    "\n",
    "gan.train(60,  2000, 10, get_batch, \"n\", z_dim, True, \"summary\\\\GAN_mnist_case_{}\".format(i), \"Model\\\\GAN_mnist_case_{}\".format(i), None, None, gargs)"
   ]
  },
  {
   "cell_type": "code",
   "execution_count": null,
   "metadata": {},
   "outputs": [],
   "source": []
  }
 ],
 "metadata": {
  "kernelspec": {
   "display_name": "Python 3",
   "language": "python",
   "name": "python3"
  },
  "language_info": {
   "codemirror_mode": {
    "name": "ipython",
    "version": 3
   },
   "file_extension": ".py",
   "mimetype": "text/x-python",
   "name": "python",
   "nbconvert_exporter": "python",
   "pygments_lexer": "ipython3",
   "version": "3.6.4"
  }
 },
 "nbformat": 4,
 "nbformat_minor": 2
}
