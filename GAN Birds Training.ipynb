{
 "cells": [
  {
   "cell_type": "code",
   "execution_count": 2,
   "metadata": {},
   "outputs": [],
   "source": [
    "import tensorflow as tf\n",
    "from GAN import GAN\n",
    "import numpy as np\n",
    "import os\n",
    "import matplotlib.pyplot as plt\n",
    "import lmdb, cv2\n",
    "%matplotlib inline"
   ]
  },
  {
   "cell_type": "code",
   "execution_count": null,
   "metadata": {},
   "outputs": [],
   "source": [
    "\n",
    "def get_image_paths(main_path):\n",
    "    return([os.path.join(main_path, img) for img in os.listdir(main_path)])\n",
    "\n",
    "def get_batch(batch_size):\n",
    "    global env, cursor\n",
    "    imgs = np.zeros(shape=[batch_size, 256 , 256, 3])\n",
    "    for i, (key, val) in enumerate(cursor):\n",
    "        imgs[i, ...] = cv2.resize(cv2.imdecode(np.frombuffer(val, np.uint8), 1), (256, 256))\n",
    "        if i==(batch_size-1):\n",
    "            break\n",
    "     \n",
    "    if i < (batch_size-1):\n",
    "        env.close()\n",
    "        env = lmdb.open(\"E:\\\\bird\", readonly=True)\n",
    "        txn = env.begin(write=False)\n",
    "        cursor = txn.cursor()\n",
    "        imgs = get_batch(batch_size)\n",
    "    else:\n",
    "        imgs = (imgs/255. - 0.5)/0.5\n",
    "    return(imgs)"
   ]
  },
  {
   "cell_type": "markdown",
   "metadata": {},
   "source": [
    "# GAN JS divergence with disc input noise (anealing) w. mini-batch"
   ]
  },
  {
   "cell_type": "code",
   "execution_count": null,
   "metadata": {},
   "outputs": [],
   "source": [
    "env = lmdb.open(\"E:\\\\bird\", readonly=True)\n",
    "txn = env.begin(write=False)\n",
    "cursor = txn.cursor()\n",
    "z_dim = 1024\n",
    "\n",
    "tf.reset_default_graph()\n",
    "gan = GAN(verbose=True)\n",
    "layers = list()\n",
    "\n",
    "ns = tf.train.exponential_decay(0.1, tf.Variable(0, trainable=False), 1000, 0.95, staircase=True)\n",
    "\n",
    "G_layers = [[1024, [4, 4], (1, 1), \"valid\", tf.random_normal_initializer(stddev=0.02), 1, \"r\", None, 0],\n",
    "            [512, [4, 4], (2, 2), \"same\", tf.random_normal_initializer(stddev=0.02), 1, \"r\", None, 0],\n",
    "            [256, [4, 4], (2, 2), \"same\", tf.random_normal_initializer(stddev=0.02), 1, \"r\", None, 0],\n",
    "            [128, [4, 4], (2, 2), \"same\", tf.random_normal_initializer(stddev=0.02), 1, \"r\", None, 0],\n",
    "            [64, [4, 4], (2, 2), \"same\", tf.random_normal_initializer(stddev=0.02), 1, \"r\", None, 0],\n",
    "            [32, [4, 4], (2, 2), \"same\", tf.random_normal_initializer(stddev=0.02), 1, \"r\", None, 0],\n",
    "            [3, [4, 4], (2, 2), \"same\", tf.random_normal_initializer(stddev=0.02), 0, \"th\", None, 0]]\n",
    "\n",
    "D_layers = [[32, [4, 4], (2, 2), 'same', tf.random_normal_initializer(stddev=0.02), 0, 'lr', None, ns],\n",
    "            [64, [4, 4], (2, 2), 'same', tf.random_normal_initializer(stddev=0.02), 1, 'lr', None, 0],\n",
    "            [128, [4, 4], (2, 2), 'same', tf.random_normal_initializer(stddev=0.02), 1, 'lr', None, 0],\n",
    "            [256, [4, 4], (2, 2), 'same', tf.random_normal_initializer(stddev=0.02), 1, 'lr', None, 0],\n",
    "            [512, [4, 4], (2, 2), 'same', tf.random_normal_initializer(stddev=0.02), 1, 'lr', None, 0],\n",
    "            [1024, [4, 4], (2, 2), 'same', tf.random_normal_initializer(stddev=0.02), 1, 'lr', [4, 5], 0],\n",
    "            [1, [4, 4], (1, 1), 'valid', tf.random_normal_initializer(stddev=0.02), 0, 'l', None, 0]]\n",
    "\n",
    "\n",
    "gargs = gan.build_graph(G_layers, D_layers, tf.placeholder(tf.float32, [None, 256, 256, 3]),\n",
    "                       tf.placeholder(tf.float32, [None, 1, 1, z_dim]), True, 1.0, \"RMS\", 2e-4, True)\n",
    "\n",
    "gan.train(40,  200000, 100, get_batch, \"n\", z_dim, True, \n",
    "          \"summary\\\\GAN_RMS_256_with_noise_mini_sm_an_z\", \"Model\\\\GAN_RMS_256_with_noise_mini_sm_an_z\", gargs)\n",
    "env.close()"
   ]
  }
 ],
 "metadata": {
  "kernelspec": {
   "display_name": "Python 3",
   "language": "python",
   "name": "python3"
  },
  "language_info": {
   "codemirror_mode": {
    "name": "ipython",
    "version": 3
   },
   "file_extension": ".py",
   "mimetype": "text/x-python",
   "name": "python",
   "nbconvert_exporter": "python",
   "pygments_lexer": "ipython3",
   "version": "3.6.4"
  }
 },
 "nbformat": 4,
 "nbformat_minor": 2
}
