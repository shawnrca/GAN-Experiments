{
 "cells": [
  {
   "cell_type": "code",
   "execution_count": null,
   "metadata": {},
   "outputs": [],
   "source": [
    "import tensorflow as tf\n",
    "from GAN import GAN\n",
    "import numpy as np\n",
    "import os\n",
    "import matplotlib.pyplot as plt\n",
    "%matplotlib inline"
   ]
  },
  {
   "cell_type": "code",
   "execution_count": null,
   "metadata": {},
   "outputs": [],
   "source": [
    "z_dim = 1024\n",
    "tf.reset_default_graph()\n",
    "gan = GAN(verbose=False)\n",
    "\n",
    "G_layers = [[1024, [4, 4], (1, 1), \"valid\", tf.random_normal_initializer(stddev=0.02), 1, \"r\", None, 0],\n",
    "            [512, [4, 4], (2, 2), \"same\", tf.random_normal_initializer(stddev=0.02), 1, \"r\", None, 0],\n",
    "            [256, [4, 4], (2, 2), \"same\", tf.random_normal_initializer(stddev=0.02), 1, \"r\", None, 0],\n",
    "            [128, [4, 4], (2, 2), \"same\", tf.random_normal_initializer(stddev=0.02), 1, \"r\", None, 0],\n",
    "            [64, [4, 4], (2, 2), \"same\", tf.random_normal_initializer(stddev=0.02), 1, \"r\", None, 0],\n",
    "            [32, [4, 4], (2, 2), \"same\", tf.random_normal_initializer(stddev=0.02), 1, \"r\", None, 0],\n",
    "            [3, [4, 4], (2, 2), \"same\", tf.random_normal_initializer(stddev=0.02), 0, \"th\", None, 0]]\n",
    "\n",
    "graph, sess_gan, z, G_col, G_out = gan.build_inference_graph(G_layers, tf.placeholder(tf.float32, [None, 1, 1, z_dim]),\n",
    "                                                             \"lsun_generator_vars.npz\")  "
   ]
  },
  {
   "cell_type": "code",
   "execution_count": null,
   "metadata": {},
   "outputs": [],
   "source": [
    "good_ones = np.load(\"good_ones.npy\")\n",
    "z_val = good_ones\n",
    "img_birds = sess_gan.run(tf.clip_by_value(G_out, -1, 1), feed_dict={z:z_val})/2 + 0.5  \n",
    "\n",
    "nrows, ncols = img_birds.shape[0]//2+img_birds.shape[0]%2,  2\n",
    "\n",
    "f, ax =plt.subplots(nrows=nrows, ncols=ncols)\n",
    "f.set_size_inches(10, 100)\n",
    "\n",
    "for i, (r, c) in enumerate([(r, c) for r in np.arange(nrows) for c in np.arange(ncols)]):\n",
    "    if i>img_birds.shape[0]-1:\n",
    "        break;\n",
    "    ax[r][c].set_title(i)\n",
    "    ax[r][c].imshow(img_birds[i,...])\n",
    "\n",
    "plt.show()"
   ]
  },
  {
   "cell_type": "code",
   "execution_count": null,
   "metadata": {},
   "outputs": [],
   "source": [
    "for_article = np.array([0, 1, 2, 3, 4, 6, 7, 9, 10, 13, 14, 15, 16, 18, 20, 22, 24, 25, 27, 28, 32, 36, 40, 46, 47])\n",
    "img_combined = None\n",
    "for sl in np.split(for_article, 5):\n",
    "    if img_combined is None:\n",
    "        img_combined = np.concatenate(img_birds[sl, ...], axis=0)\n",
    "    else:\n",
    "        img_combined = np.concatenate([img_combined, np.concatenate(img_birds[sl, ...], axis=0)], axis=1)\n",
    "    \n",
    "\n",
    "plt.figure(figsize=[20, 20])\n",
    "plt.imshow(img_combined)"
   ]
  }
 ],
 "metadata": {
  "kernelspec": {
   "display_name": "Python 3",
   "language": "python",
   "name": "python3"
  },
  "language_info": {
   "codemirror_mode": {
    "name": "ipython",
    "version": 3
   },
   "file_extension": ".py",
   "mimetype": "text/x-python",
   "name": "python",
   "nbconvert_exporter": "python",
   "pygments_lexer": "ipython3",
   "version": "3.6.4"
  }
 },
 "nbformat": 4,
 "nbformat_minor": 2
}
